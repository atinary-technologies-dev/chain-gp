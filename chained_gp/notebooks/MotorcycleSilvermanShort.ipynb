{
 "cells": [
  {
   "cell_type": "markdown",
   "metadata": {},
   "source": [
    "Motorcycle dataset analysis, found at http://vincentarelbundock.github.io/Rdatasets/datasets.html under 'mcycle'"
   ]
  },
  {
   "cell_type": "code",
   "execution_count": 3,
   "metadata": {},
   "outputs": [],
   "source": [
    "import os \n",
    "os.chdir('../')"
   ]
  },
  {
   "cell_type": "code",
   "execution_count": 4,
   "metadata": {
    "collapsed": false
   },
   "outputs": [],
   "source": [
    "import pandas as pd\n",
    "import matplotlib.pyplot as plt\n",
    "import numpy as np\n",
    "import GPy\n",
    "from het_student_t import HetStudentT\n",
    "from hetgp import HetGP\n",
    "from svgp_multi import SVGPMulti\n",
    "import matplotlib\n",
    "data_dir = './data_download/'\n",
    "%matplotlib inline\n",
    "matplotlib.rcParams['figure.figsize'] = 12, 3  # that's default image size for this "
   ]
  },
  {
   "cell_type": "code",
   "execution_count": 5,
   "metadata": {
    "collapsed": false
   },
   "outputs": [],
   "source": [
    "restarts = 10\n",
    "n_folds = 5\n",
    "Ms = ['all']#, 100]\n",
    "#These are just starting values, lengthscales will also be randomized\n",
    "f_rbf_len = 0.3\n",
    "f_rbf_var = 0.5\n",
    "g_rbf_len = 0.5\n",
    "g_rbf_var = 0.5\n",
    "# This is the log of mean of the posterior of the scale parameter, so we set it\n",
    "# to be the log of roughly what we expect the scale parameter to be if it were\n",
    "# constant\n",
    "gauss_noise = 0.25\n",
    "g_mean_val = np.log(gauss_noise)\n",
    "g_bias_var = None\n",
    "f_bias_var = None #['mean']\n",
    "fixZ = True\n",
    "preopt_scg_iters = 100\n",
    "preopt_restarts = 3\n",
    "scg_iters = 50\n",
    "max_iters = 250\n",
    "num_samples = 100000\n",
    "gtol = 1e-5\n",
    "ftol = 0\n",
    "xtol = 0\n",
    "#gauss_dataset_names = []#['elevators1000']#, 'elevators10000']\n",
    "#stut_dataset_names = ['motorCorrupt', 'elevators1000']#, 'elevators10000']\n",
    "starting_df = 4.0\n",
    "optimize_df = True\n",
    "\n",
    "fold = 0\n",
    "seed = 0"
   ]
  },
  {
   "cell_type": "code",
   "execution_count": null,
   "metadata": {
    "collapsed": false
   },
   "outputs": [],
   "source": [
    "np.random.seed(seed)"
   ]
  },
  {
   "cell_type": "code",
   "execution_count": 6,
   "metadata": {
    "collapsed": false
   },
   "outputs": [
    {
     "name": "stdout",
     "output_type": "stream",
     "text": [
      "training shape:  (106, 1)\n",
      "test shape:  (27, 1)\n",
      "All:  (133, 1)\n",
      "0\n"
     ]
    }
   ],
   "source": [
    "class Dataset(object):\n",
    "    def __init__(self, Xtrain, Ytrain, Xtest, Ytest):\n",
    "        self.Xtrain, self.Ytrain, self.Xtest, self.Ytest = Xtrain, Ytrain, Xtest, Ytest\n",
    "\n",
    "def load_motorCorrupt(fold, seed):\n",
    "    #Have merged the training and the test, and then put the header in the same file\n",
    "    data = pd.read_csv(data_dir + 'mcycle.csv', index_col=0)\n",
    "    data = data.reindex(np.random.permutation(data.index)) # Randomize so test isn't at the end\n",
    "    X = data['times'].values[:, None]\n",
    "    Y = data['accel'].values[:, None]\n",
    "    X = (X-X.mean(0))/X.std(0)\n",
    "    Y = (Y-Y.mean(0))/Y.std(0)\n",
    "\n",
    "    from sklearn.model_selection import KFold\n",
    "    cv = KFold(n_splits=n_folds, shuffle=True, random_state=seed)\n",
    "    #Stupidly you can't just index it...\n",
    "    for i, (train, test) in enumerate(cv.split(X)):\n",
    "        if i==fold:\n",
    "            training_inds = train\n",
    "            test_inds = test\n",
    "\n",
    "    # Corrupt some Y's with larger noise\n",
    "    corrupt_inds = np.random.permutation(range(X.shape[0]))[:25]\n",
    "    Y[corrupt_inds] = np.random.randn(*Y[corrupt_inds].shape)*3.5\n",
    "\n",
    "    Xtrain = X[training_inds, :]\n",
    "    Ytrain = Y[training_inds, :]\n",
    "    Xtest = X[test_inds, :]\n",
    "    Ytest = Y[test_inds, :]\n",
    "\n",
    "    #Corrupt 20 training Y's with larger noise\n",
    "    #corrupt_inds = np.random.permutation(range(Xtrain.shape[0]))[:10]\n",
    "    #Ytrain[corrupt_inds] += np.random.randn(*Ytrain[corrupt_inds].shape)*2.0\n",
    "\n",
    "    print(\"training shape: \", Xtrain.shape)\n",
    "    print(\"test shape: \", Xtest.shape)\n",
    "    print(\"All: \", X.shape)\n",
    "    print(Xtrain.shape[0] + Xtest.shape[0] - X.shape[0])\n",
    "    return Dataset(Xtrain=Xtrain, Ytrain=Ytrain, Xtest=Xtest, Ytest=Ytest), corrupt_inds, X, Y\n",
    "\n",
    "dataset, corrupt_inds, X, Y = load_motorCorrupt(fold, seed)\n",
    "\n",
    "Xtrain = dataset.Xtrain\n",
    "Ytrain = dataset.Ytrain\n",
    "Xtest = dataset.Xtest\n",
    "Ytest = dataset.Ytest"
   ]
  },
  {
   "cell_type": "code",
   "execution_count": 10,
   "metadata": {},
   "outputs": [
    {
     "data": {
      "text/plain": [
       "(106, 1)"
      ]
     },
     "execution_count": 10,
     "metadata": {},
     "output_type": "execute_result"
    }
   ],
   "source": [
    "Xtrain.shape"
   ]
  },
  {
   "cell_type": "code",
   "execution_count": 7,
   "metadata": {
    "collapsed": false
   },
   "outputs": [
    {
     "data": {
      "text/plain": [
       "[<matplotlib.lines.Line2D at 0x7f4583cf3ef0>]"
      ]
     },
     "execution_count": 7,
     "metadata": {},
     "output_type": "execute_result"
    },
    {
     "data": {
      "image/png": "[encoded data removed]",
      "text/plain": [
       "<Figure size 864x216 with 1 Axes>"
      ]
     },
     "metadata": {
      "needs_background": "light"
     },
     "output_type": "display_data"
    }
   ],
   "source": [
    "plt.plot(X, Y, 'rx')"
   ]
  },
  {
   "cell_type": "code",
   "execution_count": 39,
   "metadata": {
    "collapsed": false
   },
   "outputs": [
    {
     "name": "stdout",
     "output_type": "stream",
     "text": [
      "[4.26162431]\n",
      "[0.00598875]\n"
     ]
    },
    {
     "data": {
      "text/plain": [
       "(array([0.00598875]), array([0.02951905]))"
      ]
     },
     "execution_count": 39,
     "metadata": {},
     "output_type": "execute_result"
    }
   ],
   "source": [
    "def random_multi_lengthscales(X_):\n",
    "    normed_X = (X_.max(0) - X_.min(0))/X_.std(0)\n",
    "    # 3 fluctuations in approximately the entire range\n",
    "    print(normed_X)\n",
    "    f_lengthscales = np.random.uniform(size=X_.shape[1])*(0.4/normed_X) + 0.001\n",
    "    g_lengthscales = np.random.uniform(size=X_.shape[1])*(0.4/normed_X) + 0.001\n",
    "    # f_lengthscales = X_.std(0)*np.random.uniform(size=Xtrain.shape[1])*0.05 + 0.001\n",
    "    # g_lengthscales = X_.std(0)*np.random.uniform(size=Xtrain.shape[1])*0.05 + 0.001\n",
    "    # f_lengthscales = np.abs(-0.5 + np.random.uniform(size=Xtrain.shape[1])*2.5)\n",
    "    # g_lengthscales = np.abs(-0.5 + np.random.uniform(size=Xtrain.shape[1])*2.5)\n",
    "    print(f_lengthscales)\n",
    "    return f_lengthscales, g_lengthscales\n",
    "\n",
    "random_multi_lengthscales(Xtrain)"
   ]
  },
  {
   "cell_type": "code",
   "execution_count": 12,
   "metadata": {
    "collapsed": false
   },
   "outputs": [],
   "source": [
    "def build_kernf(D, dataset, bias, f_rbf_len, f_rbf_var, seed, fold):\n",
    "    kernf = GPy.kern.RBF(D, variance=f_rbf_var,\n",
    "                         lengthscale=np.ones(D)*f_rbf_len, ARD=True,\n",
    "                         name='kernf_rbf')\n",
    "    #kernf += GPy.kern.Linear(D, ARD=True, name='kernf_linear')\n",
    "    kernf += GPy.kern.White(1, variance=0.001, name='f_white')\n",
    "    if bias is not None:\n",
    "        if bias == 'mean':\n",
    "            f_bias_var = dataset.Ytrain.mean()\n",
    "        else:\n",
    "            f_bias_var = bias\n",
    "            kernf += GPy.kern.Bias(1, variance=f_bias_var, name='f_bias')\n",
    "    kernf.f_white.fix()\n",
    "    kernf.name = 'kernf'\n",
    "    return kernf\n",
    "\n",
    "def build_kerng(D, g_bias, g_rbf_len, seed, fold):\n",
    "    #Needs white or variance doesn't checkgrad!\n",
    "    kerng = GPy.kern.RBF(D, variance=g_rbf_var,\n",
    "                         lengthscale=np.ones(D)*g_rbf_len, ARD=True,\n",
    "                         name='kerng_rbf')\n",
    "    kerng += GPy.kern.White(1, variance=0.001, name='g_white')\n",
    "    if g_bias is not None:\n",
    "        kerng += GPy.kern.Bias(1, variance=g_bias, name='g_bias')\n",
    "    kerng.g_white.fix()\n",
    "    kerng.name = 'kerng'\n",
    "    return kerng\n",
    "from scipy.cluster.vq import kmeans as scipy_kmeans\n",
    "\n",
    "def kmeans(dataset, k, seed):\n",
    "    Z, _ = scipy_kmeans(dataset.Xtrain, k)\n",
    "    return Z\n",
    "\n",
    "def build_gauss_model(dataset, Z, fixZ, bias, f_rbf_len, f_rbf_var, seed, fold):\n",
    "    D = dataset.Xtrain.shape[1]\n",
    "    kernf = build_kernf(D, dataset, bias, f_rbf_len, f_rbf_var, seed, fold)\n",
    "    m_gauss = GPy.models.SparseGPRegression(dataset.Xtrain.copy(), dataset.Ytrain.copy(), Z=Z.copy(), kernel=kernf)\n",
    "    m_gauss.name='gauss_single'\n",
    "    m_gauss.likelihood.variance[:] = gauss_noise\n",
    "    return m_gauss\n",
    "\n",
    "def preopt_gauss_scheme(m):\n",
    "    m.kernf.constrain_positive()\n",
    "    m.likelihood.variance.constrain_positive()\n",
    "    if hasattr(m, 'Z'):\n",
    "        m.Z.fix()\n",
    "    m.optimize('bfgs', max_iters=preopt_scg_iters, gtol=gtol, messages=1, xtol=xtol, ftol=ftol)\n",
    "    if hasattr(m, 'Z'):\n",
    "        m.Z.unfix()\n",
    "    m.optimize('bfgs', max_iters=5*preopt_scg_iters, gtol=gtol, messages=1, xtol=xtol, ftol=ftol)\n",
    "    return m\n",
    "\n",
    "def preopt_gauss(dataset, Z, fixZ, bias, f_rbf_len, f_rbf_var, random_func, seed, fold):\n",
    "    m = build_gauss_model(dataset, Z, fixZ, bias, f_rbf_len, f_rbf_var, seed, fold)\n",
    "    print(\"PreOptimizing gauss \", m)\n",
    "    print(m.kernf.kernf_rbf.lengthscale)\n",
    "    best_m = preopt_gauss_scheme(m)\n",
    "    print(\"Found best gauss model\")\n",
    "    print(best_m)\n",
    "    return best_m[:]\n"
   ]
  },
  {
   "cell_type": "code",
   "execution_count": 13,
   "metadata": {
    "collapsed": false
   },
   "outputs": [
    {
     "name": "stderr",
     "output_type": "stream",
     "text": [
      "reconstraining parameters gauss_single.kernf\n"
     ]
    },
    {
     "name": "stdout",
     "output_type": "stream",
     "text": [
      "PreOptimizing gauss  \n",
      "Name : gauss_single\n",
      "Objective : 547.1387815839519\n",
      "Number of Parameters : 110\n",
      "Number of Optimization Parameters : 109\n",
      "Updates : True\n",
      "Parameters:\n",
      "  \u001b[1mgauss_single.              \u001b[0;0m  |     value  |  constraints  |  priors\n",
      "  \u001b[1minducing_inputs            \u001b[0;0m  |  (106, 1)  |               |        \n",
      "  \u001b[1mkernf.kernf_rbf.variance   \u001b[0;0m  |       0.5  |      +ve      |        \n",
      "  \u001b[1mkernf.kernf_rbf.lengthscale\u001b[0;0m  |       0.3  |      +ve      |        \n",
      "  \u001b[1mkernf.f_white.variance     \u001b[0;0m  |     0.001  |   +ve fixed   |        \n",
      "  \u001b[1mGaussian_noise.variance    \u001b[0;0m  |      0.25  |      +ve      |        \n",
      "  \u001b[1mindex\u001b[0;0m  |  gauss_single.kernf.kernf_rbf.lengthscale  |  constraints  |  priors\n",
      "  \u001b[1m[0]  \u001b[0;0m  |                                0.30000000  |      +ve      |        \n"
     ]
    },
    {
     "name": "stderr",
     "output_type": "stream",
     "text": [
      "reconstraining parameters gauss_single.Gaussian_noise.variance\n"
     ]
    },
    {
     "name": "stdout",
     "output_type": "stream",
     "text": [
      "Running L-BFGS-B (Scipy implementation) Code:\n",
      "  runtime   i     f              |g|        \n",
      "WARNING: l-bfgs-b doesn't have an xtol arg, so I'm going to ignore it\n",
      "WARNING: l-bfgs-b doesn't have an ftol arg, so I'm going to ignore it\n",
      "    01s18  011   2.056696e+02   3.918109e-02 \n",
      "    02s23  020   2.056428e+02   3.426822e-04 \n",
      "    04s11  036   2.056415e+02   2.214170e-07 \n",
      "Runtime:     04s11\n",
      "Optimization status: Converged\n",
      "\n",
      "Running L-BFGS-B (Scipy implementation) Code:\n",
      "  runtime   i     f              |g|        \n",
      "WARNING: l-bfgs-b doesn't have an xtol arg, so I'm going to ignore it\n",
      "WARNING: l-bfgs-b doesn't have an ftol arg, so I'm going to ignore it\n",
      "    00s13  001   2.056415e+02   2.214173e-07 \n",
      "    00s44  004   2.056415e+02   7.562214e-08 \n",
      "Runtime:     00s44\n",
      "Optimization status: Converged\n",
      "\n",
      "Found best gauss model\n",
      "\n",
      "Name : gauss_single\n",
      "Objective : 205.64150269567088\n",
      "Number of Parameters : 110\n",
      "Number of Optimization Parameters : 110\n",
      "Updates : True\n",
      "Parameters:\n",
      "  \u001b[1mgauss_single.              \u001b[0;0m  |                  value  |  constraints  |  priors\n",
      "  \u001b[1minducing_inputs            \u001b[0;0m  |               (106, 1)  |               |        \n",
      "  \u001b[1mkernf.kernf_rbf.variance   \u001b[0;0m  |    0.33207123310681164  |      +ve      |        \n",
      "  \u001b[1mkernf.kernf_rbf.lengthscale\u001b[0;0m  |     0.2801555248277793  |      +ve      |        \n",
      "  \u001b[1mkernf.f_white.variance     \u001b[0;0m  |  1.595667685209428e-08  |      +ve      |        \n",
      "  \u001b[1mGaussian_noise.variance    \u001b[0;0m  |      2.633496235775604  |      +ve      |        \n"
     ]
    }
   ],
   "source": [
    "#m1.optimize(messages=1)\n",
    "m1_opt = preopt_gauss(dataset, Xtrain.copy(), fixZ, f_bias_var, f_rbf_len, f_rbf_var, random_multi_lengthscales, seed, fold)\n",
    "m1 = build_gauss_model(dataset, Xtrain.copy(), fixZ, f_bias_var, f_rbf_len, f_rbf_var, seed, fold)\n",
    "m1[:] = m1_opt"
   ]
  },
  {
   "cell_type": "code",
   "execution_count": 14,
   "metadata": {
    "collapsed": false
   },
   "outputs": [
    {
     "data": {
      "text/plain": [
       "{'inducing': <matplotlib.collections.PathCollection at 0x7f4573ccc080>,\n",
       " 'dataplot': [<matplotlib.collections.PathCollection at 0x7f4573ccc208>],\n",
       " 'gpmean': [[<matplotlib.lines.Line2D at 0x7f4573ccc400>]],\n",
       " 'gpconfidence': [<matplotlib.collections.PolyCollection at 0x7f4573ccc9e8>]}"
      ]
     },
     "execution_count": 14,
     "metadata": {},
     "output_type": "execute_result"
    },
    {
     "data": {
      "image/png": "[encoded data removed]",
      "text/plain": [
       "<Figure size 864x216 with 1 Axes>"
      ]
     },
     "metadata": {
      "needs_background": "light"
     },
     "output_type": "display_data"
    }
   ],
   "source": [
    "m1.plot()"
   ]
  },
  {
   "cell_type": "code",
   "execution_count": 15,
   "metadata": {
    "collapsed": false
   },
   "outputs": [
    {
     "name": "stdout",
     "output_type": "stream",
     "text": [
      "\n",
      "Name : gauss_single\n",
      "Objective : 205.64150269567088\n",
      "Number of Parameters : 110\n",
      "Number of Optimization Parameters : 109\n",
      "Updates : True\n",
      "Parameters:\n",
      "  \u001b[1mgauss_single.              \u001b[0;0m  |                  value  |  constraints  |  priors\n",
      "  \u001b[1minducing_inputs            \u001b[0;0m  |               (106, 1)  |               |        \n",
      "  \u001b[1mkernf.kernf_rbf.variance   \u001b[0;0m  |    0.33207123310681164  |      +ve      |        \n",
      "  \u001b[1mkernf.kernf_rbf.lengthscale\u001b[0;0m  |     0.2801555248277793  |      +ve      |        \n",
      "  \u001b[1mkernf.f_white.variance     \u001b[0;0m  |  1.595667685209428e-08  |   +ve fixed   |        \n",
      "  \u001b[1mGaussian_noise.variance    \u001b[0;0m  |      2.633496235775604  |      +ve      |        \n"
     ]
    }
   ],
   "source": [
    "print(m1)"
   ]
  },
  {
   "cell_type": "code",
   "execution_count": 16,
   "metadata": {
    "collapsed": false
   },
   "outputs": [
    {
     "name": "stdout",
     "output_type": "stream",
     "text": [
      "  \u001b[1mconstmap.\u001b[0;0m  |                value  |  constraints  |  priors\n",
      "  \u001b[1mC        \u001b[0;0m  |  -1.3862943611198906  |               |        \n",
      "[4.26162431]\n",
      "[0.07728751]\n",
      "\n",
      "Name : multi_gauss\n",
      "Objective : 43334.68730298303\n",
      "Number of Parameters : 11667\n",
      "Number of Optimization Parameters : 11554\n",
      "Updates : True\n",
      "Parameters:\n",
      "  \u001b[1mmulti_gauss.               \u001b[0;0m  |                value  |  constraints  |  priors\n",
      "  \u001b[1minducing_inputs            \u001b[0;0m  |             (106, 1)  |     fixed     |        \n",
      "  \u001b[1mq_u_means                  \u001b[0;0m  |             (106, 2)  |               |        \n",
      "  \u001b[1mqf_u_chols                 \u001b[0;0m  |            (5671, 2)  |               |        \n",
      "  \u001b[1mkernf.kernf_rbf.variance   \u001b[0;0m  |                  0.5  |   +ve fixed   |        \n",
      "  \u001b[1mkernf.kernf_rbf.lengthscale\u001b[0;0m  |   0.0772875059361838  |   +ve fixed   |        \n",
      "  \u001b[1mkernf.f_white.variance     \u001b[0;0m  |                0.001  |   +ve fixed   |        \n",
      "  \u001b[1mkerng.kerng_rbf.variance   \u001b[0;0m  |                  0.5  |   +ve fixed   |        \n",
      "  \u001b[1mkerng.kerng_rbf.lengthscale\u001b[0;0m  |  0.04416753090593091  |   +ve fixed   |        \n",
      "  \u001b[1mkerng.g_white.variance     \u001b[0;0m  |                0.001  |   +ve fixed   |        \n",
      "  \u001b[1mconstmap.C                 \u001b[0;0m  |  -1.3862943611198906  |     fixed     |        \n",
      "Running Scaled Conjugate Gradients Code:\n",
      "  runtime   i     f              |g|        \n",
      "    00s03  002   4.333469e+04   6.805107e+07 \n",
      "    00s07  004   4.250224e+03   6.805107e+07 \n",
      "    00s18  009   1.311972e+03   1.350497e+06 \n",
      "    01s18  064   4.115943e+02   1.135887e+05 \n",
      "    03s20  175   2.425643e+02   2.402053e+03 \n",
      "    05s55  302   2.113940e+02   2.801662e+02 "
     ]
    },
    {
     "name": "stderr",
     "output_type": "stream",
     "text": [
      "reconstraining parameters multi_gauss.kernf\n",
      "reconstraining parameters multi_gauss.kerng\n"
     ]
    },
    {
     "name": "stdout",
     "output_type": "stream",
     "text": [
      "\n",
      "Runtime:     05s55\n",
      "Optimization status: maxiter exceeded\n",
      "\n",
      "Running Scaled Conjugate Gradients Code:\n",
      "  runtime   i     f              |g|        \n",
      "    00s19  004   2.059396e+02   2.579141e+03 \n",
      "    03s25  076   1.884096e+02   3.311413e+02 \n",
      "    11s45  264   1.783013e+02   1.407858e+02 \n",
      "    13s09  302   1.765506e+02   1.863773e+02 \n",
      "Runtime:     13s09\n",
      "Optimization status: maxiter exceeded\n",
      "\n",
      "Running L-BFGS-B (Scipy implementation) Code:\n",
      "  runtime   i     f              |g|        \n",
      "WARNING: l-bfgs-b doesn't have an xtol arg, so I'm going to ignore it\n",
      "WARNING: l-bfgs-b doesn't have an ftol arg, so I'm going to ignore it\n",
      "    00s09  001   1.765506e+02   1.721386e+02 \n",
      "    00s19  003   1.765043e+02   3.415136e+02 \n",
      "    01s22  026   1.743135e+02   1.052682e+02 \n",
      "    05s28  115   1.667902e+02   1.184693e+01 \n",
      "    08s41  171   1.650203e+02   1.431427e+01 \n",
      "    20s71  439   1.628697e+02   2.896499e-01 \n",
      "    24s63  502   1.628604e+02   1.192775e-01 \n",
      "Runtime:     24s63\n",
      "Optimization status: Maximum number of f evaluations reached\n",
      "\n"
     ]
    }
   ],
   "source": [
    "# Make the kernels : \n",
    "D = dataset.Xtrain.shape[1]\n",
    "kernf = build_kernf(D, dataset, f_bias_var, f_rbf_len, f_rbf_var, seed, fold)\n",
    "kerng = build_kerng(D, g_bias_var, g_rbf_len, seed, fold)\n",
    "kern = [kernf, kerng]\n",
    "\n",
    "# Multiple latent process model : \n",
    "if g_mean_val is not None:\n",
    "    g_mean = GPy.mappings.Constant(input_dim=13, output_dim=1, value=g_mean_val)\n",
    "    print(g_mean)\n",
    "mean_functions = [None, g_mean]\n",
    "likelihood = HetGP()\n",
    "\n",
    "Z = dataset.Xtrain.copy()\n",
    "# Make the model : \n",
    "m2 = SVGPMulti(dataset.Xtrain.copy(), dataset.Ytrain.copy(), Z.copy(), kern_list=kern,\n",
    "                    likelihood=likelihood, mean_functions=mean_functions, name='multi_gauss')\n",
    "\n",
    "\n",
    "def pretrain_multi(m, randomize=True):\n",
    "    if randomize:\n",
    "        f_lens, g_lens = random_multi_lengthscales(m.X.values)\n",
    "        m.kernf.kernf_rbf.lengthscale[:] = f_lens\n",
    "        m.kernf.kernf_rbf.variance[:] = f_rbf_var\n",
    "        m.kerng.kerng_rbf.lengthscale[:] = g_lens\n",
    "        m.kerng.kerng_rbf.variance[:] = g_rbf_var\n",
    "    m.kernf.fix()\n",
    "    m.kerng.fix()\n",
    "    if hasattr(m, 'Z'):\n",
    "        m.Z.fix()\n",
    "    if hasattr(m, 'constmap'):\n",
    "        m.constmap.fix()\n",
    "    print(m)\n",
    "\n",
    "    #Optimize model with fixed parameters to get latent functions in place\n",
    "    m.optimize('scg', max_iters=1*preopt_scg_iters, gtol=gtol, messages=1, xtol=xtol, ftol=ftol)\n",
    "    #Constrain all kernel parameters positive and reoptimize\n",
    "    m.kernf.constrain_positive()\n",
    "    m.kerng.constrain_positive()\n",
    "    m.kernf.f_white.fix()\n",
    "    m.kerng.g_white.fix()\n",
    "    if hasattr(m, 'constmap'):\n",
    "        m.constmap.unfix()\n",
    "\n",
    "    # Continue with optimization with everything released\n",
    "    m.optimize('scg', max_iters=1*preopt_scg_iters, gtol=gtol, messages=1, xtol=xtol, ftol=ftol)\n",
    "    #if hasattr(m, 'Z'):\n",
    "    #    m.Z.unfix()\n",
    "    m.optimize('bfgs', max_iters=5*preopt_scg_iters, gtol=gtol, messages=1, xtol=xtol, ftol=ftol)\n",
    "\n",
    "    return m\n",
    "\n",
    "m2 = pretrain_multi(m2)"
   ]
  },
  {
   "cell_type": "code",
   "execution_count": 17,
   "metadata": {
    "collapsed": false
   },
   "outputs": [
    {
     "name": "stdout",
     "output_type": "stream",
     "text": [
      "\n",
      "Name : multi_gauss\n",
      "Objective : 162.8603617166998\n",
      "Number of Parameters : 11667\n",
      "Number of Optimization Parameters : 11559\n",
      "Updates : True\n",
      "Parameters:\n",
      "  \u001b[1mmulti_gauss.               \u001b[0;0m  |                 value  |  constraints  |  priors\n",
      "  \u001b[1minducing_inputs            \u001b[0;0m  |              (106, 1)  |     fixed     |        \n",
      "  \u001b[1mq_u_means                  \u001b[0;0m  |              (106, 2)  |               |        \n",
      "  \u001b[1mqf_u_chols                 \u001b[0;0m  |             (5671, 2)  |               |        \n",
      "  \u001b[1mkernf.kernf_rbf.variance   \u001b[0;0m  |    0.8557326433093436  |      +ve      |        \n",
      "  \u001b[1mkernf.kernf_rbf.lengthscale\u001b[0;0m  |   0.37580176661406056  |      +ve      |        \n",
      "  \u001b[1mkernf.f_white.variance     \u001b[0;0m  |                 0.001  |   +ve fixed   |        \n",
      "  \u001b[1mkerng.kerng_rbf.variance   \u001b[0;0m  |     2.849706641899188  |      +ve      |        \n",
      "  \u001b[1mkerng.kerng_rbf.lengthscale\u001b[0;0m  |  0.010821692042714576  |      +ve      |        \n",
      "  \u001b[1mkerng.g_white.variance     \u001b[0;0m  |                 0.001  |   +ve fixed   |        \n",
      "  \u001b[1mconstmap.C                 \u001b[0;0m  |   -1.0086548521657905  |               |        \n"
     ]
    }
   ],
   "source": [
    "print(m2)"
   ]
  },
  {
   "cell_type": "code",
   "execution_count": 18,
   "metadata": {
    "collapsed": false
   },
   "outputs": [
    {
     "data": {
      "text/plain": [
       "[<matplotlib.lines.Line2D at 0x7f4573c22160>]"
      ]
     },
     "execution_count": 18,
     "metadata": {},
     "output_type": "execute_result"
    },
    {
     "data": {
      "image/png": "[encoded data removed]",
      "text/plain": [
       "<Figure size 864x216 with 1 Axes>"
      ]
     },
     "metadata": {
      "needs_background": "light"
     },
     "output_type": "display_data"
    }
   ],
   "source": [
    "m2.plot_f()\n",
    "plt.plot(Xtrain, Ytrain, 'rx')"
   ]
  },
  {
   "cell_type": "code",
   "execution_count": 19,
   "metadata": {
    "collapsed": false
   },
   "outputs": [
    {
     "name": "stdout",
     "output_type": "stream",
     "text": [
      "  \u001b[1mconstmap.\u001b[0;0m  |                value  |  constraints  |  priors\n",
      "  \u001b[1mC        \u001b[0;0m  |  -1.3862943611198906  |               |        \n",
      "[4.26162431]\n",
      "[0.0220377]\n",
      "\n",
      "Name : multi_stut\n",
      "Objective : 41553.32561855653\n",
      "Number of Parameters : 11668\n",
      "Number of Optimization Parameters : 11554\n",
      "Updates : True\n",
      "Parameters:\n",
      "  \u001b[1mmulti_stut.                \u001b[0;0m  |                value  |  constraints  |  priors\n",
      "  \u001b[1minducing_inputs            \u001b[0;0m  |             (106, 1)  |     fixed     |        \n",
      "  \u001b[1mHetro_Student_T.deg_free   \u001b[0;0m  |                  4.0  |   +ve fixed   |        \n",
      "  \u001b[1mq_u_means                  \u001b[0;0m  |             (106, 2)  |               |        \n",
      "  \u001b[1mqf_u_chols                 \u001b[0;0m  |            (5671, 2)  |               |        \n",
      "  \u001b[1mkernf.kernf_rbf.variance   \u001b[0;0m  |                  0.5  |   +ve fixed   |        \n",
      "  \u001b[1mkernf.kernf_rbf.lengthscale\u001b[0;0m  |  0.02203770189463867  |   +ve fixed   |        \n",
      "  \u001b[1mkernf.f_white.variance     \u001b[0;0m  |                0.001  |   +ve fixed   |        \n",
      "  \u001b[1mkerng.kerng_rbf.variance   \u001b[0;0m  |                  0.5  |   +ve fixed   |        \n",
      "  \u001b[1mkerng.kerng_rbf.lengthscale\u001b[0;0m  |   0.0850742252699522  |   +ve fixed   |        \n",
      "  \u001b[1mkerng.g_white.variance     \u001b[0;0m  |                0.001  |   +ve fixed   |        \n",
      "  \u001b[1mconstmap.C                 \u001b[0;0m  |  -1.3862943611198906  |     fixed     |        \n",
      "Running Scaled Conjugate Gradients Code:\n",
      "  runtime   i     f              |g|        \n",
      "    00s12  005   3.610876e+03   3.317343e+06 \n",
      "    00s19  008   8.605112e+02   3.958351e+05 \n",
      "    03s23  131   2.483555e+02   1.963883e+03 \n",
      "    05s24  213   2.016163e+02   1.026664e+03 \n",
      "    07s43  302   1.885120e+02   2.171896e+02 \n",
      "Runtime:     07s43\n",
      "Optimization status: maxiter exceeded\n",
      "\n"
     ]
    },
    {
     "name": "stderr",
     "output_type": "stream",
     "text": [
      "reconstraining parameters multi_stut.kernf\n",
      "reconstraining parameters multi_stut.kerng\n"
     ]
    },
    {
     "name": "stdout",
     "output_type": "stream",
     "text": [
      "Running Scaled Conjugate Gradients Code:\n",
      "  runtime   i     f              |g|        \n",
      "    00s15  003   1.885120e+02   5.440975e+02 \n",
      "    03s23  066   1.820932e+02   1.810950e+02 \n",
      "    09s36  192   1.762656e+02   1.004182e+02 \n",
      "    14s86  302   1.725428e+02   1.060028e+02 \n",
      "Runtime:     14s86\n",
      "Optimization status: maxiter exceeded\n",
      "\n",
      "Running L-BFGS-B (Scipy implementation) Code:\n",
      "  runtime   i     f              |g|        \n",
      "WARNING: l-bfgs-b doesn't have an xtol arg, so I'm going to ignore it\n",
      "WARNING: l-bfgs-b doesn't have an ftol arg, so I'm going to ignore it\n",
      "    00s17  002   4.946497e+02   1.725576e+06 \n",
      "    02s22  033   1.703413e+02   9.278777e+01 \n",
      "    07s37  133   1.611202e+02   4.535299e+01 \n",
      "    09s42  173   1.596550e+02   1.042147e+01 \n",
      "    26s27  502   1.588896e+02   3.399454e-01 \n",
      "Runtime:     26s27\n",
      "Optimization status: Maximum number of f evaluations reached\n",
      "\n"
     ]
    }
   ],
   "source": [
    "# Make the kernels\n",
    "D = dataset.Xtrain.shape[1]\n",
    "kernf = build_kernf(D, dataset, f_bias_var, f_rbf_len, f_rbf_var, seed, fold)\n",
    "kerng = build_kerng(D, g_bias_var, g_rbf_len, seed, fold)\n",
    "kern = [kernf, kerng]\n",
    "\n",
    "# Multiple latent process model\n",
    "if g_mean_val is not None:\n",
    "    g_mean = GPy.mappings.Constant(input_dim=13, output_dim=1, value=g_mean_val)\n",
    "    print(g_mean)\n",
    "mean_functions = [None, g_mean]\n",
    "likelihood = HetGP()\n",
    "\n",
    "Z = dataset.Xtrain.copy()\n",
    "# Make the model\n",
    "likelihood = HetStudentT(deg_free=starting_df)\n",
    "m3 = SVGPMulti(dataset.Xtrain.copy(), dataset.Ytrain.copy(), Z.copy(), kern_list=kern,\n",
    "                    likelihood=likelihood, mean_functions=mean_functions, name='multi_stut')\n",
    "\n",
    "\n",
    "def pretrain_multi(m, randomize=True):\n",
    "    if randomize:\n",
    "        f_lens, g_lens = random_multi_lengthscales(m.X.values)\n",
    "        m.kernf.kernf_rbf.lengthscale[:] = f_lens\n",
    "        m.kernf.kernf_rbf.variance[:] = f_rbf_var\n",
    "        m.kerng.kerng_rbf.lengthscale[:] = g_lens\n",
    "        m.kerng.kerng_rbf.variance[:] = g_rbf_var\n",
    "    m.kernf.fix()\n",
    "    m.kerng.fix()\n",
    "    if hasattr(m, 'Z'):\n",
    "        m.Z.fix()\n",
    "    if hasattr(m, 'constmap'):\n",
    "        m.constmap.fix()\n",
    "    print(m)\n",
    "\n",
    "    # Optimize model with fixed parameters to get latent functions in place\n",
    "    m.optimize('scg', max_iters=1*preopt_scg_iters, gtol=gtol, messages=1, xtol=xtol, ftol=ftol)\n",
    "    # Constrain all kernel parameters positive and reoptimize\n",
    "    m.kernf.constrain_positive()\n",
    "    m.kerng.constrain_positive()\n",
    "    m.kernf.f_white.fix()\n",
    "    m.kerng.g_white.fix()\n",
    "    if hasattr(m, 'constmap'):\n",
    "        m.constmap.unfix()\n",
    "\n",
    "    # Continue with optimization with everything released\n",
    "    m.optimize('scg', max_iters=1*preopt_scg_iters, gtol=gtol, messages=1, xtol=xtol, ftol=ftol)\n",
    "    #if hasattr(m, 'Z'):\n",
    "    #    m.Z.unfix()\n",
    "    m.optimize('bfgs', max_iters=5*preopt_scg_iters, gtol=gtol, messages=1, xtol=xtol, ftol=ftol)\n",
    "\n",
    "    return m\n",
    "\n",
    "m3 = pretrain_multi(m3)"
   ]
  },
  {
   "cell_type": "code",
   "execution_count": 20,
   "metadata": {
    "collapsed": false
   },
   "outputs": [
    {
     "name": "stdout",
     "output_type": "stream",
     "text": [
      "Running L-BFGS-B (Scipy implementation) Code:\n",
      "  runtime   i      f              |g|        \n",
      "    00s45  0004   2.056415e+02   3.068336e-08 \n",
      "Runtime:     00s45\n",
      "Optimization status: Converged\n",
      "\n",
      "\n",
      "Name : gauss_single\n",
      "Objective : 205.64150267959113\n",
      "Number of Parameters : 110\n",
      "Number of Optimization Parameters : 109\n",
      "Updates : True\n",
      "Parameters:\n",
      "  \u001b[1mgauss_single.              \u001b[0;0m  |                  value  |  constraints  |  priors\n",
      "  \u001b[1minducing_inputs            \u001b[0;0m  |               (106, 1)  |               |        \n",
      "  \u001b[1mkernf.kernf_rbf.variance   \u001b[0;0m  |     0.3320886070928177  |      +ve      |        \n",
      "  \u001b[1mkernf.kernf_rbf.lengthscale\u001b[0;0m  |     0.2801401452273216  |      +ve      |        \n",
      "  \u001b[1mkernf.f_white.variance     \u001b[0;0m  |  1.595667685209428e-08  |   +ve fixed   |        \n",
      "  \u001b[1mGaussian_noise.variance    \u001b[0;0m  |      2.633520849254744  |      +ve      |        \n",
      "Running L-BFGS-B (Scipy implementation) Code:\n",
      "  runtime   i      f              |g|        \n",
      "    00s82  0005   1.628604e+02   2.579087e+00 \n",
      "Runtime:     00s82\n",
      "Optimization status: Converged\n",
      "\n",
      "\n",
      "Name : multi_gauss\n",
      "Objective : 162.86036171670025\n",
      "Number of Parameters : 11667\n",
      "Number of Optimization Parameters : 11665\n",
      "Updates : True\n",
      "Parameters:\n",
      "  \u001b[1mmulti_gauss.               \u001b[0;0m  |                 value  |  constraints  |  priors\n",
      "  \u001b[1minducing_inputs            \u001b[0;0m  |              (106, 1)  |               |        \n",
      "  \u001b[1mq_u_means                  \u001b[0;0m  |              (106, 2)  |               |        \n",
      "  \u001b[1mqf_u_chols                 \u001b[0;0m  |             (5671, 2)  |               |        \n",
      "  \u001b[1mkernf.kernf_rbf.variance   \u001b[0;0m  |    0.8557326433093436  |      +ve      |        \n",
      "  \u001b[1mkernf.kernf_rbf.lengthscale\u001b[0;0m  |   0.37580176661406056  |      +ve      |        \n",
      "  \u001b[1mkernf.f_white.variance     \u001b[0;0m  |                 0.001  |   +ve fixed   |        \n",
      "  \u001b[1mkerng.kerng_rbf.variance   \u001b[0;0m  |    2.8497066418991883  |      +ve      |        \n",
      "  \u001b[1mkerng.kerng_rbf.lengthscale\u001b[0;0m  |  0.010821692042714576  |      +ve      |        \n",
      "  \u001b[1mkerng.g_white.variance     \u001b[0;0m  |                 0.001  |   +ve fixed   |        \n",
      "  \u001b[1mconstmap.C                 \u001b[0;0m  |   -1.0086548521657905  |               |        \n",
      "Running L-BFGS-B (Scipy implementation) Code:\n",
      "  runtime   i      f              |g|        \n",
      "    01s21  0007   1.588893e+02   1.555345e+00 \n",
      "    05s59  0032   1.588883e+02   2.608984e+00 \n",
      "    18s49  0103   1.588861e+02   1.381326e+00 \n",
      "    36s78  0206   1.588814e+02   3.986977e+00 "
     ]
    },
    {
     "name": "stderr",
     "output_type": "stream",
     "text": [
      " /home/rbarbano/projects/dev/ChainedGP/chained_gp/svgp_multi.py:111: RuntimeWarning:overflow encountered in add\n"
     ]
    },
    {
     "name": "stdout",
     "output_type": "stream",
     "text": [
      "    54s03  0303   1.588759e+02   8.112944e+00 \n",
      " 02m34s54  0857   1.587815e+02   6.351090e+00 \n",
      " 07m12s45  2399   1.579459e+02   7.428036e+00 \n",
      " 09m01s49  3002   1.572953e+02   1.505227e+01 \n",
      "Runtime:  09m01s49\n",
      "Optimization status: Maximum number of f evaluations reached\n",
      "\n",
      "\n",
      "Name : multi_stut\n",
      "Objective : 157.29526588855597\n",
      "Number of Parameters : 11668\n",
      "Number of Optimization Parameters : 11665\n",
      "Updates : True\n",
      "Parameters:\n",
      "  \u001b[1mmulti_stut.                \u001b[0;0m  |                value  |  constraints  |  priors\n",
      "  \u001b[1minducing_inputs            \u001b[0;0m  |             (106, 1)  |               |        \n",
      "  \u001b[1mHetro_Student_T.deg_free   \u001b[0;0m  |                  4.0  |   +ve fixed   |        \n",
      "  \u001b[1mq_u_means                  \u001b[0;0m  |             (106, 2)  |               |        \n",
      "  \u001b[1mqf_u_chols                 \u001b[0;0m  |            (5671, 2)  |               |        \n",
      "  \u001b[1mkernf.kernf_rbf.variance   \u001b[0;0m  |   0.6136013120785809  |      +ve      |        \n",
      "  \u001b[1mkernf.kernf_rbf.lengthscale\u001b[0;0m  |   0.3648934072003797  |      +ve      |        \n",
      "  \u001b[1mkernf.f_white.variance     \u001b[0;0m  |                0.001  |   +ve fixed   |        \n",
      "  \u001b[1mkerng.kerng_rbf.variance   \u001b[0;0m  |   1.4304502391184875  |      +ve      |        \n",
      "  \u001b[1mkerng.kerng_rbf.lengthscale\u001b[0;0m  |  0.43064251506195195  |      +ve      |        \n",
      "  \u001b[1mkerng.g_white.variance     \u001b[0;0m  |                0.001  |   +ve fixed   |        \n",
      "  \u001b[1mconstmap.C                 \u001b[0;0m  |  -1.8998072562034618  |               |        \n"
     ]
    }
   ],
   "source": [
    "m1.Z.unfix()\n",
    "m2.Z.unfix()\n",
    "m3.Z.unfix()\n",
    "m1.optimize('bfgs', max_iters=3000, messages=1)\n",
    "print(m1)\n",
    "m2.optimize('bfgs', max_iters=3000, messages=1)\n",
    "print(m2)\n",
    "m3.optimize('bfgs', max_iters=3000, messages=1)\n",
    "print(m3)"
   ]
  },
  {
   "cell_type": "code",
   "execution_count": 21,
   "metadata": {
    "collapsed": false
   },
   "outputs": [
    {
     "name": "stderr",
     "output_type": "stream",
     "text": [
      "reconstraining parameters multi_stut.Hetro_Student_T.deg_free\n"
     ]
    },
    {
     "name": "stdout",
     "output_type": "stream",
     "text": [
      "Running Scaled Conjugate Gradients Code:\n",
      "  runtime   i    f              |g|        \n",
      "    00s18  04   1.571933e+02   2.951512e+01 \n",
      "    03s25  68   1.491560e+02   4.167358e+01 \n",
      "    07s37  152   1.467242e+02   2.055563e+02 \n",
      "Runtime:     07s37\n",
      "Optimization status: maxiter exceeded\n",
      "\n"
     ]
    },
    {
     "data": {
      "text/plain": [
       "<paramz.optimization.optimization.opt_SCG at 0x7f4573bef780>"
      ]
     },
     "execution_count": 21,
     "metadata": {},
     "output_type": "execute_result"
    }
   ],
   "source": [
    "m3_free_df = m3.copy()\n",
    "m3_free_df.Z.fix()\n",
    "m3_free_df.likelihood.deg_free.constrain_positive()\n",
    "m3_free_df.optimize('scg', messages=1, max_iters=50)"
   ]
  },
  {
   "cell_type": "code",
   "execution_count": 22,
   "metadata": {
    "collapsed": false
   },
   "outputs": [
    {
     "name": "stdout",
     "output_type": "stream",
     "text": [
      "Running Scaled Conjugate Gradients Code:\n",
      "  runtime   i     f              |g|        \n",
      "    00s15  005   1.466016e+02   1.352235e+02 \n",
      "    00s18  006   1.466016e+02   1.352227e+02 \n",
      "    03s25  074   1.453977e+02   2.839571e+01 \n",
      "    12s62  263   1.419477e+02   3.270984e+01 \n",
      "    15s76  326   1.414177e+02   1.006152e+01 \n",
      "    29s79  602   1.409782e+02   3.458822e+00 \n",
      "Runtime:     29s79\n",
      "Optimization status: maxiter exceeded\n",
      "\n",
      "Running L-BFGS-B (Scipy implementation) Code:\n",
      "  runtime   i      f              |g|        \n",
      "    00s16  0002   4.655174e+02   2.271255e+06 \n",
      "    02s21  0040   1.409281e+02   1.993145e+00 \n",
      "    08s28  0152   1.407181e+02   7.617514e-01 \n",
      "    12s36  0229   1.406795e+02   1.184450e-01 \n",
      "    31s80  0675   1.405359e+02   7.752908e-02 \n",
      "    37s92  0795   1.405211e+02   5.500114e-02 \n",
      "    44s15  0912   1.405182e+02   2.122694e-03 \n",
      "Runtime:     44s15\n",
      "Optimization status: Converged\n",
      "\n"
     ]
    },
    {
     "data": {
      "text/plain": [
       "<paramz.optimization.optimization.opt_lbfgsb at 0x7f4573c9ad30>"
      ]
     },
     "execution_count": 22,
     "metadata": {},
     "output_type": "execute_result"
    }
   ],
   "source": [
    "#m3_free_df.Z.unfix()\n",
    "m3_free_df.optimize('scg', messages=1, max_iters=200)\n",
    "m3_free_df.optimize('bfgs', messages=1, max_iters=2000)"
   ]
  },
  {
   "cell_type": "code",
   "execution_count": 23,
   "metadata": {
    "collapsed": false
   },
   "outputs": [
    {
     "data": {
      "text/html": [
       "<style type=\"text/css\">\n",
       ".pd{\n",
       "    font-family: \"Courier New\", Courier, monospace !important;\n",
       "    width: 100%;\n",
       "    padding: 3px;\n",
       "}\n",
       "</style>\n",
       "\n",
       "<p class=pd>\n",
       "<b>Model</b>: multi_stut<br>\n",
       "<b>Objective</b>: 140.5182403203347<br>\n",
       "<b>Number of Parameters</b>: 11668<br>\n",
       "<b>Number of Optimization Parameters</b>: 11560<br>\n",
       "<b>Updates</b>: True<br>\n",
       "</p>\n",
       "<style type=\"text/css\">\n",
       ".tg  {font-family:\"Courier New\", Courier, monospace !important;padding:2px 3px;word-break:normal;border-collapse:collapse;border-spacing:0;border-color:#DCDCDC;margin:0px auto;width:100%;}\n",
       ".tg td{font-family:\"Courier New\", Courier, monospace !important;font-weight:bold;color:#444;background-color:#F7FDFA;border-style:solid;border-width:1px;overflow:hidden;word-break:normal;border-color:#DCDCDC;}\n",
       ".tg th{font-family:\"Courier New\", Courier, monospace !important;font-weight:normal;color:#fff;background-color:#26ADE4;border-style:solid;border-width:1px;overflow:hidden;word-break:normal;border-color:#DCDCDC;}\n",
       ".tg .tg-left{font-family:\"Courier New\", Courier, monospace !important;font-weight:normal;text-align:left;}\n",
       ".tg .tg-center{font-family:\"Courier New\", Courier, monospace !important;font-weight:normal;text-align:center;}\n",
       ".tg .tg-right{font-family:\"Courier New\", Courier, monospace !important;font-weight:normal;text-align:right;}\n",
       "</style>\n",
       "<table class=\"tg\"><tr><th><b>  multi_stut.                </b></th><th><b>             value</b></th><th><b>constraints</b></th><th><b>priors</b></th></tr>\n",
       "<tr><td class=tg-left>  inducing inputs            </td><td class=tg-right>          (106, 1)</td><td class=tg-center>   fixed   </td><td class=tg-center>      </td></tr>\n",
       "<tr><td class=tg-left>  Hetro_Student_T.deg_free   </td><td class=tg-right>1.1291259923240928</td><td class=tg-center>    +ve    </td><td class=tg-center>      </td></tr>\n",
       "<tr><td class=tg-left>  q_u_means                  </td><td class=tg-right>          (106, 2)</td><td class=tg-center>           </td><td class=tg-center>      </td></tr>\n",
       "<tr><td class=tg-left>  qf_u_chols                 </td><td class=tg-right>         (5671, 2)</td><td class=tg-center>           </td><td class=tg-center>      </td></tr>\n",
       "<tr><td class=tg-left>  kernf.kernf_rbf.variance   </td><td class=tg-right>0.7288405083287266</td><td class=tg-center>    +ve    </td><td class=tg-center>      </td></tr>\n",
       "<tr><td class=tg-left>  kernf.kernf_rbf.lengthscale</td><td class=tg-right>0.3128533559317565</td><td class=tg-center>    +ve    </td><td class=tg-center>      </td></tr>\n",
       "<tr><td class=tg-left>  kernf.f_white.variance     </td><td class=tg-right>             0.001</td><td class=tg-center> +ve fixed </td><td class=tg-center>      </td></tr>\n",
       "<tr><td class=tg-left>  kerng.kerng_rbf.variance   </td><td class=tg-right>2.4758147172865153</td><td class=tg-center>    +ve    </td><td class=tg-center>      </td></tr>\n",
       "<tr><td class=tg-left>  kerng.kerng_rbf.lengthscale</td><td class=tg-right>0.8954770671347996</td><td class=tg-center>    +ve    </td><td class=tg-center>      </td></tr>\n",
       "<tr><td class=tg-left>  kerng.g_white.variance     </td><td class=tg-right>             0.001</td><td class=tg-center> +ve fixed </td><td class=tg-center>      </td></tr>\n",
       "<tr><td class=tg-left>  constmap.C                 </td><td class=tg-right>-3.556405484662672</td><td class=tg-center>           </td><td class=tg-center>      </td></tr>\n",
       "</table>"
      ],
      "text/plain": [
       "<svgp_multi.SVGPMulti at 0x7f457bc26e80>"
      ]
     },
     "execution_count": 23,
     "metadata": {},
     "output_type": "execute_result"
    }
   ],
   "source": [
    "m3_free_df"
   ]
  },
  {
   "cell_type": "code",
   "execution_count": 24,
   "metadata": {
    "collapsed": false
   },
   "outputs": [
    {
     "data": {
      "text/plain": [
       "<matplotlib.image.AxesImage at 0x7f4573b00e80>"
      ]
     },
     "execution_count": 24,
     "metadata": {},
     "output_type": "execute_result"
    },
    {
     "data": {
      "image/png": "[encoded data removed]",
      "text/plain": [
       "<Figure size 288x288 with 1 Axes>"
      ]
     },
     "metadata": {
      "needs_background": "light"
     },
     "output_type": "display_data"
    }
   ],
   "source": [
    "plt.matshow(m3.kernf.K(m3.X))"
   ]
  },
  {
   "cell_type": "code",
   "execution_count": 26,
   "metadata": {
    "collapsed": false
   },
   "outputs": [
    {
     "name": "stdout",
     "output_type": "stream",
     "text": [
      "\n",
      "Name : gauss_single\n",
      "Objective : 205.64150267959113\n",
      "Number of Parameters : 110\n",
      "Number of Optimization Parameters : 109\n",
      "Updates : True\n",
      "Parameters:\n",
      "  \u001b[1mgauss_single.              \u001b[0;0m  |                  value  |  constraints  |  priors\n",
      "  \u001b[1minducing_inputs            \u001b[0;0m  |               (106, 1)  |               |        \n",
      "  \u001b[1mkernf.kernf_rbf.variance   \u001b[0;0m  |     0.3320886070928177  |      +ve      |        \n",
      "  \u001b[1mkernf.kernf_rbf.lengthscale\u001b[0;0m  |     0.2801401452273216  |      +ve      |        \n",
      "  \u001b[1mkernf.f_white.variance     \u001b[0;0m  |  1.595667685209428e-08  |   +ve fixed   |        \n",
      "  \u001b[1mGaussian_noise.variance    \u001b[0;0m  |      2.633520849254744  |      +ve      |        \n"
     ]
    }
   ],
   "source": [
    "print(m1)"
   ]
  },
  {
   "cell_type": "code",
   "execution_count": 27,
   "metadata": {
    "collapsed": false
   },
   "outputs": [
    {
     "name": "stdout",
     "output_type": "stream",
     "text": [
      "\n",
      "Name : multi_gauss\n",
      "Objective : 162.86036171670025\n",
      "Number of Parameters : 11667\n",
      "Number of Optimization Parameters : 11665\n",
      "Updates : True\n",
      "Parameters:\n",
      "  \u001b[1mmulti_gauss.               \u001b[0;0m  |                 value  |  constraints  |  priors\n",
      "  \u001b[1minducing_inputs            \u001b[0;0m  |              (106, 1)  |               |        \n",
      "  \u001b[1mq_u_means                  \u001b[0;0m  |              (106, 2)  |               |        \n",
      "  \u001b[1mqf_u_chols                 \u001b[0;0m  |             (5671, 2)  |               |        \n",
      "  \u001b[1mkernf.kernf_rbf.variance   \u001b[0;0m  |    0.8557326433093436  |      +ve      |        \n",
      "  \u001b[1mkernf.kernf_rbf.lengthscale\u001b[0;0m  |   0.37580176661406056  |      +ve      |        \n",
      "  \u001b[1mkernf.f_white.variance     \u001b[0;0m  |                 0.001  |   +ve fixed   |        \n",
      "  \u001b[1mkerng.kerng_rbf.variance   \u001b[0;0m  |    2.8497066418991883  |      +ve      |        \n",
      "  \u001b[1mkerng.kerng_rbf.lengthscale\u001b[0;0m  |  0.010821692042714576  |      +ve      |        \n",
      "  \u001b[1mkerng.g_white.variance     \u001b[0;0m  |                 0.001  |   +ve fixed   |        \n",
      "  \u001b[1mconstmap.C                 \u001b[0;0m  |   -1.0086548521657905  |               |        \n"
     ]
    }
   ],
   "source": [
    "print(m2)"
   ]
  },
  {
   "cell_type": "code",
   "execution_count": 28,
   "metadata": {
    "collapsed": false
   },
   "outputs": [
    {
     "name": "stdout",
     "output_type": "stream",
     "text": [
      "\n",
      "Name : multi_stut\n",
      "Objective : 157.29526588855597\n",
      "Number of Parameters : 11668\n",
      "Number of Optimization Parameters : 11665\n",
      "Updates : True\n",
      "Parameters:\n",
      "  \u001b[1mmulti_stut.                \u001b[0;0m  |                value  |  constraints  |  priors\n",
      "  \u001b[1minducing_inputs            \u001b[0;0m  |             (106, 1)  |               |        \n",
      "  \u001b[1mHetro_Student_T.deg_free   \u001b[0;0m  |                  4.0  |   +ve fixed   |        \n",
      "  \u001b[1mq_u_means                  \u001b[0;0m  |             (106, 2)  |               |        \n",
      "  \u001b[1mqf_u_chols                 \u001b[0;0m  |            (5671, 2)  |               |        \n",
      "  \u001b[1mkernf.kernf_rbf.variance   \u001b[0;0m  |   0.6136013120785809  |      +ve      |        \n",
      "  \u001b[1mkernf.kernf_rbf.lengthscale\u001b[0;0m  |   0.3648934072003797  |      +ve      |        \n",
      "  \u001b[1mkernf.f_white.variance     \u001b[0;0m  |                0.001  |   +ve fixed   |        \n",
      "  \u001b[1mkerng.kerng_rbf.variance   \u001b[0;0m  |   1.4304502391184875  |      +ve      |        \n",
      "  \u001b[1mkerng.kerng_rbf.lengthscale\u001b[0;0m  |  0.43064251506195195  |      +ve      |        \n",
      "  \u001b[1mkerng.g_white.variance     \u001b[0;0m  |                0.001  |   +ve fixed   |        \n",
      "  \u001b[1mconstmap.C                 \u001b[0;0m  |  -1.8998072562034618  |               |        \n"
     ]
    }
   ],
   "source": [
    "print(m3)"
   ]
  },
  {
   "cell_type": "code",
   "execution_count": 40,
   "metadata": {
    "collapsed": false
   },
   "outputs": [
    {
     "data": {
      "image/png": "[encoded data removed]",
      "text/plain": [
       "<Figure size 864x216 with 3 Axes>"
      ]
     },
     "metadata": {
      "needs_background": "light"
     },
     "output_type": "display_data"
    }
   ],
   "source": [
    "sort_inds = X.argsort(axis=0)\n",
    "X_sorted = X[sort_inds].reshape(X.shape[0], 1)\n",
    "Y_sorted = Y[sort_inds].reshape(X.shape[0], 1)\n",
    "\n",
    "\n",
    "X_full = np.linspace(-2, 2.5, 100)[:, None]\n",
    "mu_gauss, var_gauss = m1.predict(X_full)\n",
    "mu_multi_gauss, _ = m2._raw_predict(X_full, 0)\n",
    "var_multi_gauss, _ = m2._raw_predict(X_full, 1)\n",
    "mu_multi_stut, _ = m3._raw_predict(X_full, 0)\n",
    "var_multi_stut, _ = m3._raw_predict(X_full, 1)\n",
    "mu_multi_stut_free_df, _ = m3_free_df._raw_predict(X_full, 0)\n",
    "var_multi_stut_free_df, _ = m3_free_df._raw_predict(X_full, 1)\n",
    "\n",
    "# outlier = Y_sorted > (mu_multi_stut + 3*np.sqrt(np.exp(var_multi_stut)))\n",
    "dashes = (3,3)\n",
    "calpha = 0.5\n",
    "# fig, (ax1, ax2, ax3, ax4) = plt.subplots(1, 4, sharey=True)\n",
    "fig, (ax1, ax2, ax3) = plt.subplots(1, 3, sharey=True)\n",
    "ax1.plot(X_sorted, Y_sorted, 'o', mfc='none')\n",
    "ax1.plot(X_full, mu_gauss, 'b-')\n",
    "ax1.plot(X_full, mu_gauss + 2*np.sqrt(var_gauss), 'b--', dashes=dashes)\n",
    "ax1.plot(X_full, mu_gauss - 2*np.sqrt(var_gauss), 'b--', dashes=dashes)\n",
    "ax1.set_title('Standard Gaussian Process')\n",
    "ax1.plot(X[corrupt_inds], Y[corrupt_inds], 'ro', alpha=calpha)\n",
    "\n",
    "ax2.plot(X_sorted, Y_sorted, 'o', mfc='none', alpha=0.01)\n",
    "ax2.plot(X_full, mu_multi_gauss, 'b-')\n",
    "ax2.plot(X_full, mu_multi_gauss + 2*np.sqrt(np.exp(var_multi_gauss)), 'b--', dashes=dashes)\n",
    "ax2.plot(X_full, mu_multi_gauss - 2*np.sqrt(np.exp(var_multi_gauss)), 'b--', dashes=dashes)\n",
    "ax2.set_title('Heteroscedastic Gaussian')\n",
    "ax2.plot(X[corrupt_inds], Y[corrupt_inds], 'ro', alpha=calpha)\n",
    "\n",
    "# With df free\n",
    "ax3.plot(X_sorted, Y_sorted, 'o', mfc='none', alpha=0.01)\n",
    "ax3.plot(X_full, mu_multi_stut, 'b-')\n",
    "df = m3_free_df.likelihood.deg_free\n",
    "real_multi_stut_var = (df / (df - 2.0))*np.exp(var_multi_stut_free_df)\n",
    "ax3.plot(X_full, mu_multi_stut_free_df + real_multi_stut_var, 'b--', dashes=dashes)\n",
    "ax3.plot(X_full, mu_multi_stut_free_df - real_multi_stut_var, 'b--', dashes=dashes)\n",
    "ax3.set_title('Heteroscedastic StuT')\n",
    "ax3.plot(X[corrupt_inds], Y[corrupt_inds], 'ro', alpha=calpha)\n",
    "\n",
    "import matplotlib.ticker as plticker\n",
    "loc = plticker.MultipleLocator(base=1.0) # this locator puts ticks at regular intervals\n",
    "ax1.xaxis.set_major_locator(loc)\n",
    "ax2.xaxis.set_major_locator(loc)\n",
    "ax3.xaxis.set_major_locator(loc)"
   ]
  }
 ],
 "metadata": {
  "kernelspec": {
   "display_name": "myenv",
   "language": "python",
   "name": "python3"
  },
  "language_info": {
   "codemirror_mode": {
    "name": "ipython",
    "version": 3
   },
   "file_extension": ".py",
   "mimetype": "text/x-python",
   "name": "python",
   "nbconvert_exporter": "python",
   "pygments_lexer": "ipython3",
   "version": "3.6.9"
  }
 },
 "nbformat": 4,
 "nbformat_minor": 0
}
